{
  "nbformat": 4,
  "nbformat_minor": 0,
  "metadata": {
    "colab": {
      "name": "Causal_inference_workshop_R.ipynb",
      "provenance": [],
      "authorship_tag": "ABX9TyMbBtZk7Dg0mEe1Pj1vxhAo",
      "include_colab_link": true
    },
    "kernelspec": {
      "name": "ir",
      "display_name": "R"
    },
    "language_info": {
      "name": "R"
    }
  },
  "cells": [
    {
      "cell_type": "markdown",
      "metadata": {
        "id": "view-in-github",
        "colab_type": "text"
      },
      "source": [
        "<a href=\"https://colab.research.google.com/github/irinavalenzuela/Applied-Data-Science-Python/blob/main/Causal_inference_workshop_R.ipynb\" target=\"_parent\"><img src=\"https://colab.research.google.com/assets/colab-badge.svg\" alt=\"Open In Colab\"/></a>"
      ]
    },
    {
      "cell_type": "markdown",
      "source": [
        "# Causal Inference Workshop"
      ],
      "metadata": {
        "id": "_28VDSMFSWsy"
      }
    },
    {
      "cell_type": "markdown",
      "source": [
        "## Day 2: Thornton's Experiment"
      ],
      "metadata": {
        "id": "_NP_vr08Seri"
      }
    },
    {
      "cell_type": "code",
      "execution_count": null,
      "metadata": {
        "id": "524Kvrr_SQ-L"
      },
      "outputs": [],
      "source": [
        "library(tidyverse)\n",
        "library(haven)\n"
      ]
    },
    {
      "cell_type": "code",
      "source": [
        "read_data <- function(df)\n",
        "{\n",
        "  full_path <- paste(\"https://raw.github.com/scunning1975/mixtape/master/\", \n",
        "                     df, sep = \"\")\n",
        "  df <- read_dta(full_path)\n",
        "  return(df)\n",
        "}\n",
        "\n",
        "hiv <- read_data(\"thornton_hiv.dta\")"
      ],
      "metadata": {
        "id": "R-rDQ1xNWK4f"
      },
      "execution_count": null,
      "outputs": []
    },
    {
      "cell_type": "code",
      "source": [
        "# creating the permutations\n",
        "\n",
        "tb <- NULL\n",
        "\n",
        "permuteHIV <- function(df, random = TRUE){\n",
        "  tb <- df\n",
        "  first_half <- ceiling(nrow(tb)/2)\n",
        "  second_half <- nrow(tb) - first_half\n",
        "  \n",
        "  if(random == TRUE){\n",
        "    tb <- tb %>%\n",
        "      sample_frac(1) %>%\n",
        "      mutate(any = c(rep(1, first_half), rep(0, second_half)))\n",
        "  }\n",
        "  \n",
        "  te1 <- tb %>%\n",
        "    filter(any == 1) %>%\n",
        "    pull(got) %>%\n",
        "    mean(na.rm = TRUE)\n",
        "  \n",
        "  te0 <- tb %>%\n",
        "    filter(any == 0) %>%\n",
        "    pull(got) %>% \n",
        "    mean(na.rm = TRUE)\n",
        "  \n",
        "  ate <-  te1 - te0\n",
        "  \n",
        "  return(ate)\n",
        "}\n",
        "\n",
        "permuteHIV(hiv, random = FALSE)\n",
        "\n",
        "iterations <- 1000\n",
        "\n",
        "permutation <- tibble(\n",
        "  iteration = c(seq(iterations)), \n",
        "  ate = as.numeric(\n",
        "    c(permuteHIV(hiv, random = FALSE), map(seq(iterations-1), ~permuteHIV(hiv, random = TRUE)))\n",
        "  )\n",
        ")"
      ],
      "metadata": {
        "id": "F_lpp1Y2WWNW"
      },
      "execution_count": null,
      "outputs": []
    },
    {
      "cell_type": "code",
      "source": [
        "#calculating the p-value\n",
        "\n",
        "permutation <- permutation %>% \n",
        "  arrange(-ate) %>% \n",
        "  mutate(rank = seq(iterations))\n",
        "\n",
        "p_value <- permutation %>% \n",
        "  filter(iteration == 1) %>% \n",
        "  pull(rank)/iterations"
      ],
      "metadata": {
        "id": "bVPzvwwiWeS9"
      },
      "execution_count": null,
      "outputs": []
    }
  ]
}