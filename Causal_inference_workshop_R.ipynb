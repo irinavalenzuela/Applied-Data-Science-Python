{
  "nbformat": 4,
  "nbformat_minor": 0,
  "metadata": {
    "colab": {
      "name": "Causal_inference_workshop_R.ipynb",
      "provenance": [],
      "authorship_tag": "ABX9TyPVoExNMjm2JSQDCfBfXy3T",
      "include_colab_link": true
    },
    "kernelspec": {
      "name": "ir",
      "display_name": "R"
    },
    "language_info": {
      "name": "R"
    }
  },
  "cells": [
    {
      "cell_type": "markdown",
      "metadata": {
        "id": "view-in-github",
        "colab_type": "text"
      },
      "source": [
        "<a href=\"https://colab.research.google.com/github/irinavalenzuela/Applied-Data-Science-Python/blob/main/Causal_inference_workshop_R.ipynb\" target=\"_parent\"><img src=\"https://colab.research.google.com/assets/colab-badge.svg\" alt=\"Open In Colab\"/></a>"
      ]
    },
    {
      "cell_type": "markdown",
      "source": [
        "# Causal Inference Workshop"
      ],
      "metadata": {
        "id": "_28VDSMFSWsy"
      }
    },
    {
      "cell_type": "markdown",
      "source": [
        "## Day 2: Thornton's Experiment"
      ],
      "metadata": {
        "id": "_NP_vr08Seri"
      }
    },
    {
      "cell_type": "code",
      "execution_count": 1,
      "metadata": {
        "colab": {
          "base_uri": "https://localhost:8080/"
        },
        "id": "524Kvrr_SQ-L",
        "outputId": "dc5a1a9f-ffb9-4de7-8095-314e0f79c661"
      },
      "outputs": [
        {
          "output_type": "stream",
          "name": "stderr",
          "text": [
            "Warning message in system(\"timedatectl\", intern = TRUE):\n",
            "“running command 'timedatectl' had status 1”\n",
            "── \u001b[1mAttaching packages\u001b[22m ─────────────────────────────────────── tidyverse 1.3.1 ──\n",
            "\n",
            "\u001b[32m✔\u001b[39m \u001b[34mggplot2\u001b[39m 3.3.5     \u001b[32m✔\u001b[39m \u001b[34mpurrr  \u001b[39m 0.3.4\n",
            "\u001b[32m✔\u001b[39m \u001b[34mtibble \u001b[39m 3.1.6     \u001b[32m✔\u001b[39m \u001b[34mdplyr  \u001b[39m 1.0.7\n",
            "\u001b[32m✔\u001b[39m \u001b[34mtidyr  \u001b[39m 1.1.4     \u001b[32m✔\u001b[39m \u001b[34mstringr\u001b[39m 1.4.0\n",
            "\u001b[32m✔\u001b[39m \u001b[34mreadr  \u001b[39m 2.1.1     \u001b[32m✔\u001b[39m \u001b[34mforcats\u001b[39m 0.5.1\n",
            "\n",
            "── \u001b[1mConflicts\u001b[22m ────────────────────────────────────────── tidyverse_conflicts() ──\n",
            "\u001b[31m✖\u001b[39m \u001b[34mdplyr\u001b[39m::\u001b[32mfilter()\u001b[39m masks \u001b[34mstats\u001b[39m::filter()\n",
            "\u001b[31m✖\u001b[39m \u001b[34mdplyr\u001b[39m::\u001b[32mlag()\u001b[39m    masks \u001b[34mstats\u001b[39m::lag()\n",
            "\n"
          ]
        }
      ],
      "source": [
        "library(tidyverse)\n",
        "library(haven)\n"
      ]
    },
    {
      "cell_type": "code",
      "source": [
        "read_data <- function(df)\n",
        "{\n",
        "  full_path <- paste(\"https://raw.github.com/scunning1975/mixtape/master/\", \n",
        "                     df, sep = \"\")\n",
        "  df <- read_dta(full_path)\n",
        "  return(df)\n",
        "}\n",
        "\n",
        "hiv <- read_data(\"thornton_hiv.dta\")"
      ],
      "metadata": {
        "id": "R-rDQ1xNWK4f"
      },
      "execution_count": 2,
      "outputs": []
    },
    {
      "cell_type": "code",
      "source": [
        "# creating the permutations\n",
        "\n",
        "tb <- NULL\n",
        "\n",
        "# Createing dataframe and variable permuteHIV\n",
        "\n",
        "permuteHIV <- function(df, random = TRUE){\n",
        "  tb <- df\n",
        "  first_half <- ceiling(nrow(tb)/2) # The authors just split into 2. \n",
        "  second_half <- nrow(tb) - first_half\n",
        "  \n",
        "  if(random == TRUE){\n",
        "    tb <- tb %>%\n",
        "      sample_frac(1) %>%\n",
        "      mutate(any = c(rep(1, first_half), rep(0, second_half)))\n",
        "  }\n",
        "  \n",
        "  te1 <- tb %>%\n",
        "    filter(any == 1) %>%\n",
        "    pull(got) %>%\n",
        "    mean(na.rm = TRUE)\n",
        "  \n",
        "  te0 <- tb %>%\n",
        "    filter(any == 0) %>%\n",
        "    pull(got) %>% \n",
        "    mean(na.rm = TRUE)\n",
        "  \n",
        "  ate <-  te1 - te0\n",
        "  \n",
        "  return(ate)\n",
        "}\n",
        "\n",
        "permuteHIV(hiv, random = FALSE)\n",
        "\n",
        "iterations <- 1000\n",
        "\n",
        "permutation <- tibble(\n",
        "  iteration = c(seq(iterations)), \n",
        "  ate = as.numeric(\n",
        "    c(permuteHIV(hiv, random = FALSE), map(seq(iterations-1), ~permuteHIV(hiv, random = TRUE)))\n",
        "  )\n",
        ")"
      ],
      "metadata": {
        "colab": {
          "base_uri": "https://localhost:8080/",
          "height": 34
        },
        "id": "F_lpp1Y2WWNW",
        "outputId": "02e06163-7243-496b-8206-6e7c75c4e362"
      },
      "execution_count": 3,
      "outputs": [
        {
          "output_type": "display_data",
          "data": {
            "text/plain": [
              "[1] 0.4505519"
            ],
            "text/latex": "0.450551851859918",
            "text/markdown": "0.450551851859918",
            "text/html": [
              "0.450551851859918"
            ]
          },
          "metadata": {}
        }
      ]
    },
    {
      "cell_type": "code",
      "source": [
        "#calculating the p-value\n",
        "\n",
        "permutation <- permutation %>% \n",
        "  arrange(-ate) %>% \n",
        "  mutate(rank = seq(iterations))\n",
        "\n",
        "p_value <- permutation %>% \n",
        "  filter(iteration == 1) %>% \n",
        "  pull(rank)/iterations\n",
        "  "
      ],
      "metadata": {
        "id": "bVPzvwwiWeS9"
      },
      "execution_count": 4,
      "outputs": []
    },
    {
      "cell_type": "code",
      "source": [
        "p_value"
      ],
      "metadata": {
        "colab": {
          "base_uri": "https://localhost:8080/",
          "height": 34
        },
        "id": "jUVzz4G9YD01",
        "outputId": "17b58684-9e8a-4bd9-8c70-63262ef1c514"
      },
      "execution_count": 5,
      "outputs": [
        {
          "output_type": "display_data",
          "data": {
            "text/plain": [
              "[1] 0.001"
            ],
            "text/latex": "0.001",
            "text/markdown": "0.001",
            "text/html": [
              "0.001"
            ]
          },
          "metadata": {}
        }
      ]
    },
    {
      "cell_type": "code",
      "source": [
        "# On average, the placebo distribution is going to be noise.\n",
        "# Randomization inference: you do it for omitted variable bias, not for precision"
      ],
      "metadata": {
        "id": "LLaUAvPWW2f1"
      },
      "execution_count": null,
      "outputs": []
    }
  ]
}