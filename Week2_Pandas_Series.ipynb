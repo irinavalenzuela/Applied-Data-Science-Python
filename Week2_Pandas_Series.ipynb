{
  "nbformat": 4,
  "nbformat_minor": 0,
  "metadata": {
    "colab": {
      "name": "Week2_Pandas_Series.ipynb",
      "provenance": [],
      "authorship_tag": "ABX9TyPhEAQEijDGhpNZN8y7+Zdo",
      "include_colab_link": true
    },
    "kernelspec": {
      "name": "python3",
      "display_name": "Python 3"
    },
    "language_info": {
      "name": "python"
    }
  },
  "cells": [
    {
      "cell_type": "markdown",
      "metadata": {
        "id": "view-in-github",
        "colab_type": "text"
      },
      "source": [
        "<a href=\"https://colab.research.google.com/github/irinavalenzuela/Applied-Data-Science-Python/blob/main/Week2_Pandas_Series.ipynb\" target=\"_parent\"><img src=\"https://colab.research.google.com/assets/colab-badge.svg\" alt=\"Open In Colab\"/></a>"
      ]
    },
    {
      "cell_type": "markdown",
      "source": [
        "# Introduction to Data Science in Python\n",
        "\n",
        "## Week 2: Introduction to Pandas and Series Data"
      ],
      "metadata": {
        "id": "Q-p9fpivG_su"
      }
    },
    {
      "cell_type": "markdown",
      "source": [
        "## The Series Data Structure"
      ],
      "metadata": {
        "id": "1d0m2PFNHQNx"
      }
    },
    {
      "cell_type": "code",
      "source": [
        "# Lets import Pandas\n",
        "import pandas as pd"
      ],
      "metadata": {
        "id": "kuOO27bjHMQy"
      },
      "execution_count": null,
      "outputs": []
    }
  ]
}