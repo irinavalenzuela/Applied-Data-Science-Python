{
  "nbformat": 4,
  "nbformat_minor": 0,
  "metadata": {
    "colab": {
      "name": "Data_wrangling_tidying_R.ipynb",
      "provenance": [],
      "collapsed_sections": [],
      "authorship_tag": "ABX9TyMZ75lnVPIUDUTQrzB+YNJq",
      "include_colab_link": true
    },
    "kernelspec": {
      "name": "python3",
      "display_name": "Python 3"
    },
    "language_info": {
      "name": "python"
    }
  },
  "cells": [
    {
      "cell_type": "markdown",
      "metadata": {
        "id": "view-in-github",
        "colab_type": "text"
      },
      "source": [
        "<a href=\"https://colab.research.google.com/github/irinavalenzuela/Introduction-to-Python/blob/main/Data_wrangling_tidying_R.ipynb\" target=\"_parent\"><img src=\"https://colab.research.google.com/assets/colab-badge.svg\" alt=\"Open In Colab\"/></a>"
      ]
    },
    {
      "cell_type": "code",
      "execution_count": null,
      "metadata": {
        "id": "1ML1RdS9j18l"
      },
      "outputs": [],
      "source": [
        ""
      ]
    },
    {
      "cell_type": "markdown",
      "source": [
        "Run R in Colab. \\\\\n",
        "Run rmagic by executing this command %load_ext rpy2.ipython.\n",
        "After that, every time you want to use R, add %%R in the beginning of each cell."
      ],
      "metadata": {
        "id": "RQc8BaKzqpzk"
      }
    },
    {
      "cell_type": "code",
      "source": [
        "%load_ext rpy2.ipython"
      ],
      "metadata": {
        "id": "TN2fYCnIq2wx"
      },
      "execution_count": 1,
      "outputs": []
    },
    {
      "cell_type": "markdown",
      "source": [
        "#Tidyverse"
      ],
      "metadata": {
        "id": "RZrLbtbVqKAc"
      }
    },
    {
      "cell_type": "code",
      "source": [
        "%%R\n",
        "install.packages('tidyverse')\n",
        "install.packages('nycflights13')"
      ],
      "metadata": {
        "id": "k2DrWJCQqQJH"
      },
      "execution_count": null,
      "outputs": []
    },
    {
      "cell_type": "code",
      "source": [
        "%%R\n",
        "# Library Tidyverse: load the meta-package\n",
        "library(tidyverse)"
      ],
      "metadata": {
        "colab": {
          "base_uri": "https://localhost:8080/"
        },
        "id": "yFKvkXfPrhQa",
        "outputId": "458f8b7b-d695-428d-9706-e540e30344d4"
      },
      "execution_count": 3,
      "outputs": [
        {
          "output_type": "stream",
          "name": "stderr",
          "text": [
            "R[write to console]: ── Attaching packages ─────────────────────────────────────── tidyverse 1.3.1 ──\n",
            "\n",
            "R[write to console]: ✔ ggplot2 3.3.5     ✔ purrr   0.3.4\n",
            "✔ tibble  3.1.6     ✔ dplyr   1.0.7\n",
            "✔ tidyr   1.1.4     ✔ stringr 1.4.0\n",
            "✔ readr   2.1.0     ✔ forcats 0.5.1\n",
            "\n",
            "R[write to console]: ── Conflicts ────────────────────────────────────────── tidyverse_conflicts() ──\n",
            "✖ dplyr::filter() masks stats::filter()\n",
            "✖ dplyr::lag()    masks stats::lag()\n",
            "\n"
          ]
        }
      ]
    },
    {
      "cell_type": "code",
      "source": [
        "%%R\n",
        "\n",
        "# Piped version of the code: reads from left to right. Take this object (mpg), %>%: then do this (filter), %>%: then do this (group_by)\n",
        "\n",
        "mpg %>% filter(manufacturer==\"audi\") %>% group_by(model) %>% summarize(hwy_mean=mean(hwy))"
      ],
      "metadata": {
        "colab": {
          "base_uri": "https://localhost:8080/"
        },
        "id": "5K9lPS90r-Qf",
        "outputId": "fa356f08-eca7-4487-8ca5-d2751482434b"
      },
      "execution_count": 4,
      "outputs": [
        {
          "output_type": "stream",
          "name": "stdout",
          "text": [
            "# A tibble: 3 × 2\n",
            "  model      hwy_mean\n",
            "  <chr>         <dbl>\n",
            "1 a4             28.3\n",
            "2 a4 quattro     25.8\n",
            "3 a6 quattro     24  \n"
          ]
        }
      ]
    },
    {
      "cell_type": "code",
      "source": [
        "%%R\n",
        "packageVersion('dplyr')"
      ],
      "metadata": {
        "colab": {
          "base_uri": "https://localhost:8080/"
        },
        "id": "3RbO5BHQtUE5",
        "outputId": "80e50dd9-ce26-43a2-9214-b5a7cd5b03a4"
      },
      "execution_count": 5,
      "outputs": [
        {
          "output_type": "stream",
          "name": "stdout",
          "text": [
            "[1] ‘1.0.7’\n"
          ]
        }
      ]
    },
    {
      "cell_type": "code",
      "source": [
        ""
      ],
      "metadata": {
        "id": "A9Gf88t3tmIt"
      },
      "execution_count": null,
      "outputs": []
    }
  ]
}