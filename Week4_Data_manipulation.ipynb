{
  "nbformat": 4,
  "nbformat_minor": 0,
  "metadata": {
    "colab": {
      "name": "Week4_Data_manipulation.ipynb",
      "provenance": [],
      "authorship_tag": "ABX9TyPfyygpRvmx+WqNnJyxTo0h",
      "include_colab_link": true
    },
    "kernelspec": {
      "name": "python3",
      "display_name": "Python 3"
    },
    "language_info": {
      "name": "python"
    }
  },
  "cells": [
    {
      "cell_type": "markdown",
      "metadata": {
        "id": "view-in-github",
        "colab_type": "text"
      },
      "source": [
        "<a href=\"https://colab.research.google.com/github/irinavalenzuela/Applied-Data-Science-Python/blob/main/Week4_Data_manipulation.ipynb\" target=\"_parent\"><img src=\"https://colab.research.google.com/assets/colab-badge.svg\" alt=\"Open In Colab\"/></a>"
      ]
    },
    {
      "cell_type": "markdown",
      "source": [
        "# Introduction to Data Science in Python\n",
        "\n",
        "## Week 4: Beyond Data Manipulation"
      ],
      "metadata": {
        "id": "z0w09YjL85lX"
      }
    },
    {
      "cell_type": "markdown",
      "source": [
        "## Basic Statistical Testing"
      ],
      "metadata": {
        "id": "87gjgInb9KW7"
      }
    },
    {
      "cell_type": "code",
      "source": [
        "# We use statistics in a lot of different ways in data science, and on this lecture, I want to refresh your\n",
        "# knowledge of hypothesis testing, which is a core data analysis activity behind experimentation. The goal of\n",
        "# hypothesis testing is to determine if, for instance, the two different conditions we have in an experiment \n",
        "# have resulted in different impacts\n",
        "\n",
        "# Let's import our usual numpy and pandas libraries\n",
        "import pandas as pd\n",
        "import numpy as np\n",
        "\n",
        "# Now let's bring in some new libraries from scipy\n",
        "from scipy import stats"
      ],
      "metadata": {
        "id": "YppxgKLS9G1b"
      },
      "execution_count": 3,
      "outputs": []
    },
    {
      "cell_type": "code",
      "source": [
        "# Now, scipy is an interesting collection of libraries for data science and you'll use most or perpahs all of\n",
        "# these libraries. It includes numpy and pandas, but also plotting libraries such as matplotlib, and a\n",
        "# number of scientific library functions as well"
      ],
      "metadata": {
        "id": "BD0Ztfpy9hnK"
      },
      "execution_count": null,
      "outputs": []
    },
    {
      "cell_type": "code",
      "source": [
        "# When we do hypothesis testing, we actually have two statements of interest: the first is our actual\n",
        "# explanation, which we call the alternative hypothesis, and the second is that the explanation we have is not\n",
        "# sufficient, and we call this the null hypothesis. Our actual testing method is to determine whether the null\n",
        "# hypothesis is true or not. If we find that there is a difference between groups, then we can reject the null\n",
        "# hypothesis and we accept our alternative.\n",
        "\n",
        "# Let's see an example of this; we're going to use some grade data\n",
        "df = pd.read_csv('grades.csv')\n",
        "df.head()"
      ],
      "metadata": {
        "colab": {
          "base_uri": "https://localhost:8080/",
          "height": 531
        },
        "id": "rbrtQIZK9jNa",
        "outputId": "071972a5-b3a6-41fe-bcb4-d6981747d0b1"
      },
      "execution_count": 4,
      "outputs": [
        {
          "output_type": "execute_result",
          "data": {
            "text/html": [
              "\n",
              "  <div id=\"df-f5f350ba-45fe-48e2-8614-5891da6ff283\">\n",
              "    <div class=\"colab-df-container\">\n",
              "      <div>\n",
              "<style scoped>\n",
              "    .dataframe tbody tr th:only-of-type {\n",
              "        vertical-align: middle;\n",
              "    }\n",
              "\n",
              "    .dataframe tbody tr th {\n",
              "        vertical-align: top;\n",
              "    }\n",
              "\n",
              "    .dataframe thead th {\n",
              "        text-align: right;\n",
              "    }\n",
              "</style>\n",
              "<table border=\"1\" class=\"dataframe\">\n",
              "  <thead>\n",
              "    <tr style=\"text-align: right;\">\n",
              "      <th></th>\n",
              "      <th>student_id</th>\n",
              "      <th>assignment1_grade</th>\n",
              "      <th>assignment1_submission</th>\n",
              "      <th>assignment2_grade</th>\n",
              "      <th>assignment2_submission</th>\n",
              "      <th>assignment3_grade</th>\n",
              "      <th>assignment3_submission</th>\n",
              "      <th>assignment4_grade</th>\n",
              "      <th>assignment4_submission</th>\n",
              "      <th>assignment5_grade</th>\n",
              "      <th>assignment5_submission</th>\n",
              "      <th>assignment6_grade</th>\n",
              "      <th>assignment6_submission</th>\n",
              "    </tr>\n",
              "  </thead>\n",
              "  <tbody>\n",
              "    <tr>\n",
              "      <th>0</th>\n",
              "      <td>B73F2C11-70F0-E37D-8B10-1D20AFED50B1</td>\n",
              "      <td>92.733946</td>\n",
              "      <td>2015-11-02 06:55:34.282000000</td>\n",
              "      <td>83.030552</td>\n",
              "      <td>2015-11-09 02:22:58.938000000</td>\n",
              "      <td>67.164441</td>\n",
              "      <td>2015-11-12 08:58:33.998000000</td>\n",
              "      <td>53.011553</td>\n",
              "      <td>2015-11-16 01:21:24.663000000</td>\n",
              "      <td>47.710398</td>\n",
              "      <td>2015-11-20 13:24:59.692000000</td>\n",
              "      <td>38.168318</td>\n",
              "      <td>2015-11-22 18:31:15.934000000</td>\n",
              "    </tr>\n",
              "    <tr>\n",
              "      <th>1</th>\n",
              "      <td>98A0FAE0-A19A-13D2-4BB5-CFBFD94031D1</td>\n",
              "      <td>86.790821</td>\n",
              "      <td>2015-11-29 14:57:44.429000000</td>\n",
              "      <td>86.290821</td>\n",
              "      <td>2015-12-06 17:41:18.449000000</td>\n",
              "      <td>69.772657</td>\n",
              "      <td>2015-12-10 08:54:55.904000000</td>\n",
              "      <td>55.098125</td>\n",
              "      <td>2015-12-13 17:32:30.941000000</td>\n",
              "      <td>49.588313</td>\n",
              "      <td>2015-12-19 23:26:39.285000000</td>\n",
              "      <td>44.629482</td>\n",
              "      <td>2015-12-21 17:07:24.275000000</td>\n",
              "    </tr>\n",
              "    <tr>\n",
              "      <th>2</th>\n",
              "      <td>D0F62040-CEB0-904C-F563-2F8620916C4E</td>\n",
              "      <td>85.512541</td>\n",
              "      <td>2016-01-09 05:36:02.389000000</td>\n",
              "      <td>85.512541</td>\n",
              "      <td>2016-01-09 06:39:44.416000000</td>\n",
              "      <td>68.410033</td>\n",
              "      <td>2016-01-15 20:22:45.882000000</td>\n",
              "      <td>54.728026</td>\n",
              "      <td>2016-01-11 12:41:50.749000000</td>\n",
              "      <td>49.255224</td>\n",
              "      <td>2016-01-11 17:31:12.489000000</td>\n",
              "      <td>44.329701</td>\n",
              "      <td>2016-01-17 16:24:42.765000000</td>\n",
              "    </tr>\n",
              "    <tr>\n",
              "      <th>3</th>\n",
              "      <td>FFDF2B2C-F514-EF7F-6538-A6A53518E9DC</td>\n",
              "      <td>86.030665</td>\n",
              "      <td>2016-04-30 06:50:39.801000000</td>\n",
              "      <td>68.824532</td>\n",
              "      <td>2016-04-30 17:20:38.727000000</td>\n",
              "      <td>61.942079</td>\n",
              "      <td>2016-05-12 07:47:16.326000000</td>\n",
              "      <td>49.553663</td>\n",
              "      <td>2016-05-07 16:09:20.485000000</td>\n",
              "      <td>49.553663</td>\n",
              "      <td>2016-05-24 12:51:18.016000000</td>\n",
              "      <td>44.598297</td>\n",
              "      <td>2016-05-26 08:09:12.058000000</td>\n",
              "    </tr>\n",
              "    <tr>\n",
              "      <th>4</th>\n",
              "      <td>5ECBEEB6-F1CE-80AE-3164-E45E99473FB4</td>\n",
              "      <td>64.813800</td>\n",
              "      <td>2015-12-13 17:06:10.750000000</td>\n",
              "      <td>51.491040</td>\n",
              "      <td>2015-12-14 12:25:12.056000000</td>\n",
              "      <td>41.932832</td>\n",
              "      <td>2015-12-29 14:25:22.594000000</td>\n",
              "      <td>36.929549</td>\n",
              "      <td>2015-12-28 01:29:55.901000000</td>\n",
              "      <td>33.236594</td>\n",
              "      <td>2015-12-29 14:46:06.628000000</td>\n",
              "      <td>33.236594</td>\n",
              "      <td>2016-01-05 01:06:59.546000000</td>\n",
              "    </tr>\n",
              "  </tbody>\n",
              "</table>\n",
              "</div>\n",
              "      <button class=\"colab-df-convert\" onclick=\"convertToInteractive('df-f5f350ba-45fe-48e2-8614-5891da6ff283')\"\n",
              "              title=\"Convert this dataframe to an interactive table.\"\n",
              "              style=\"display:none;\">\n",
              "        \n",
              "  <svg xmlns=\"http://www.w3.org/2000/svg\" height=\"24px\"viewBox=\"0 0 24 24\"\n",
              "       width=\"24px\">\n",
              "    <path d=\"M0 0h24v24H0V0z\" fill=\"none\"/>\n",
              "    <path d=\"M18.56 5.44l.94 2.06.94-2.06 2.06-.94-2.06-.94-.94-2.06-.94 2.06-2.06.94zm-11 1L8.5 8.5l.94-2.06 2.06-.94-2.06-.94L8.5 2.5l-.94 2.06-2.06.94zm10 10l.94 2.06.94-2.06 2.06-.94-2.06-.94-.94-2.06-.94 2.06-2.06.94z\"/><path d=\"M17.41 7.96l-1.37-1.37c-.4-.4-.92-.59-1.43-.59-.52 0-1.04.2-1.43.59L10.3 9.45l-7.72 7.72c-.78.78-.78 2.05 0 2.83L4 21.41c.39.39.9.59 1.41.59.51 0 1.02-.2 1.41-.59l7.78-7.78 2.81-2.81c.8-.78.8-2.07 0-2.86zM5.41 20L4 18.59l7.72-7.72 1.47 1.35L5.41 20z\"/>\n",
              "  </svg>\n",
              "      </button>\n",
              "      \n",
              "  <style>\n",
              "    .colab-df-container {\n",
              "      display:flex;\n",
              "      flex-wrap:wrap;\n",
              "      gap: 12px;\n",
              "    }\n",
              "\n",
              "    .colab-df-convert {\n",
              "      background-color: #E8F0FE;\n",
              "      border: none;\n",
              "      border-radius: 50%;\n",
              "      cursor: pointer;\n",
              "      display: none;\n",
              "      fill: #1967D2;\n",
              "      height: 32px;\n",
              "      padding: 0 0 0 0;\n",
              "      width: 32px;\n",
              "    }\n",
              "\n",
              "    .colab-df-convert:hover {\n",
              "      background-color: #E2EBFA;\n",
              "      box-shadow: 0px 1px 2px rgba(60, 64, 67, 0.3), 0px 1px 3px 1px rgba(60, 64, 67, 0.15);\n",
              "      fill: #174EA6;\n",
              "    }\n",
              "\n",
              "    [theme=dark] .colab-df-convert {\n",
              "      background-color: #3B4455;\n",
              "      fill: #D2E3FC;\n",
              "    }\n",
              "\n",
              "    [theme=dark] .colab-df-convert:hover {\n",
              "      background-color: #434B5C;\n",
              "      box-shadow: 0px 1px 3px 1px rgba(0, 0, 0, 0.15);\n",
              "      filter: drop-shadow(0px 1px 2px rgba(0, 0, 0, 0.3));\n",
              "      fill: #FFFFFF;\n",
              "    }\n",
              "  </style>\n",
              "\n",
              "      <script>\n",
              "        const buttonEl =\n",
              "          document.querySelector('#df-f5f350ba-45fe-48e2-8614-5891da6ff283 button.colab-df-convert');\n",
              "        buttonEl.style.display =\n",
              "          google.colab.kernel.accessAllowed ? 'block' : 'none';\n",
              "\n",
              "        async function convertToInteractive(key) {\n",
              "          const element = document.querySelector('#df-f5f350ba-45fe-48e2-8614-5891da6ff283');\n",
              "          const dataTable =\n",
              "            await google.colab.kernel.invokeFunction('convertToInteractive',\n",
              "                                                     [key], {});\n",
              "          if (!dataTable) return;\n",
              "\n",
              "          const docLinkHtml = 'Like what you see? Visit the ' +\n",
              "            '<a target=\"_blank\" href=https://colab.research.google.com/notebooks/data_table.ipynb>data table notebook</a>'\n",
              "            + ' to learn more about interactive tables.';\n",
              "          element.innerHTML = '';\n",
              "          dataTable['output_type'] = 'display_data';\n",
              "          await google.colab.output.renderOutput(dataTable, element);\n",
              "          const docLink = document.createElement('div');\n",
              "          docLink.innerHTML = docLinkHtml;\n",
              "          element.appendChild(docLink);\n",
              "        }\n",
              "      </script>\n",
              "    </div>\n",
              "  </div>\n",
              "  "
            ],
            "text/plain": [
              "                             student_id  ...         assignment6_submission\n",
              "0  B73F2C11-70F0-E37D-8B10-1D20AFED50B1  ...  2015-11-22 18:31:15.934000000\n",
              "1  98A0FAE0-A19A-13D2-4BB5-CFBFD94031D1  ...  2015-12-21 17:07:24.275000000\n",
              "2  D0F62040-CEB0-904C-F563-2F8620916C4E  ...  2016-01-17 16:24:42.765000000\n",
              "3  FFDF2B2C-F514-EF7F-6538-A6A53518E9DC  ...  2016-05-26 08:09:12.058000000\n",
              "4  5ECBEEB6-F1CE-80AE-3164-E45E99473FB4  ...  2016-01-05 01:06:59.546000000\n",
              "\n",
              "[5 rows x 13 columns]"
            ]
          },
          "metadata": {},
          "execution_count": 4
        }
      ]
    },
    {
      "cell_type": "code",
      "source": [
        "# If we take a look at the data frame inside, we see we have six different assignments. Lets look at some\n",
        "# summary statistics for this DataFrame\n"
      ],
      "metadata": {
        "id": "DdItrbG_9k-_"
      },
      "execution_count": null,
      "outputs": []
    },
    {
      "cell_type": "code",
      "source": [
        "# For the purpose of this lecture, let's segment this population into two pieces. Let's say those who finish\n",
        "# the first assignment by the end of December 2015, we'll call them early finishers, and those who finish it \n",
        "# sometime after that, we'll call them late finishers.\n"
      ],
      "metadata": {
        "id": "wsBYYfls9m6p"
      },
      "execution_count": null,
      "outputs": []
    },
    {
      "cell_type": "code",
      "source": [
        "# So, you have lots of skills now with pandas, how would you go about getting the late_finishers dataframe?\n",
        "# Why don't you pause the video and give it a try."
      ],
      "metadata": {
        "id": "ewIrkhow9odw"
      },
      "execution_count": null,
      "outputs": []
    },
    {
      "cell_type": "code",
      "source": [
        "# Here's my solution. First, the dataframe df and the early_finishers share index values, so I really just\n",
        "# want everything in the df which is not in early_finishers"
      ],
      "metadata": {
        "id": "2ZduYqjr9q4h"
      },
      "execution_count": null,
      "outputs": []
    },
    {
      "cell_type": "code",
      "source": [
        "# There are lots of other ways to do this. For instance, you could just copy and paste the first projection\n",
        "# and change the sign from less than to greater than or equal to. This is ok, but if you decide you want to\n",
        "# change the date down the road you have to remember to change it in two places. You could also do a join of\n",
        "# the dataframe df with early_finishers - if you do a left join you only keep the items in the left dataframe,\n",
        "# so this would have been a good answer. You also could have written a function that determines if someone is\n",
        "# early or late, and then called .apply() on the dataframe and added a new column to the dataframe. This is a\n",
        "# pretty reasonable answer as well."
      ],
      "metadata": {
        "id": "-s9x4EcY9sNl"
      },
      "execution_count": null,
      "outputs": []
    },
    {
      "cell_type": "code",
      "source": [
        "# As you've seen, the pandas data frame object has a variety of statistical functions associated with it. If\n",
        "# we call the mean function directly on the data frame, we see that each of the means for the assignments are\n",
        "# calculated. Let's compare the means for our two populations"
      ],
      "metadata": {
        "id": "Z5UO-Ssi9t7r"
      },
      "execution_count": null,
      "outputs": []
    },
    {
      "cell_type": "code",
      "source": [
        "# Ok, these look pretty similar. But, are they the same? What do we mean by similar? This is where the\n",
        "# students' t-test comes in. It allows us to form the alternative hypothesis (\"These are different\") as well\n",
        "# as the null hypothesis (\"These are the same\") and then test that null hypothesis.\n",
        "\n",
        "# When doing hypothesis testing, we have to choose a significance level as a threshold for how much of a\n",
        "# chance we're willing to accept. This significance level is typically called alpha. #For this example, let's\n",
        "# use a threshold of 0.05 for our alpha or 5%. Now this is a commonly used number but it's really quite\n",
        "# arbitrary.\n",
        "\n",
        "# The SciPy library contains a number of different statistical tests and forms a basis for hypothesis testing\n",
        "# in Python and we're going to use the ttest_ind() function which does an independent t-test (meaning the\n",
        "# populations are not related to one another). The result of ttest_index() are the t-statistic and a p-value.\n",
        "# It's this latter value, the probability, which is most important to us, as it indicates the chance (between\n",
        "# 0 and 1) of our null hypothesis being True.\n",
        "\n",
        "# Let's bring in our ttest_ind function\n",
        "\n",
        "# Let's run this function with our two populations, looking at the assignment 1 grades"
      ],
      "metadata": {
        "id": "KHvgnuY29vd1"
      },
      "execution_count": null,
      "outputs": []
    },
    {
      "cell_type": "code",
      "source": [
        "# So here we see that the probability is 0.18, and this is above our alpha value of 0.05. This means that we\n",
        "# cannot reject the null hypothesis. The null hypothesis was that the two populations are the same, and we\n",
        "# don't have enough certainty in our evidence (because it is greater than alpha) to come to a conclusion to\n",
        "# the contrary. This doesn't mean that we have proven the populations are the same."
      ],
      "metadata": {
        "id": "OE5D2IVs9xZp"
      },
      "execution_count": null,
      "outputs": []
    },
    {
      "cell_type": "code",
      "source": [
        "# Why don't we check the other assignment grades?"
      ],
      "metadata": {
        "id": "5V_UKbFM90-U"
      },
      "execution_count": null,
      "outputs": []
    },
    {
      "cell_type": "code",
      "source": [
        "# Ok, so it looks like in this data we do not have enough evidence to suggest the populations differ with\n",
        "# respect to grade. Let's take a look at those p-values for a moment though, because they are saying things\n",
        "# that can inform experimental design down the road. For instance, one of the assignments, assignment 3, has a\n",
        "# p-value around 0.1. This means that if we accepted a level of chance similarity of 11% this would have been\n",
        "# considered statistically significant. As a research, this would suggest to me that there is something here\n",
        "# worth considering following up on. For instance, if we had a small number of participants (we don't) or if\n",
        "# there was something unique about this assignment as it relates to our experiment (whatever it was) then\n",
        "# there may be followup experiments we could run."
      ],
      "metadata": {
        "id": "yhR-37Cy92QA"
      },
      "execution_count": null,
      "outputs": []
    },
    {
      "cell_type": "code",
      "source": [
        "# P-values have come under fire recently for being insuficient for telling us enough about the interactions\n",
        "# which are happening, and two other techniques, confidence intervalues and bayesian analyses, are being used\n",
        "# more regularly. One issue with p-values is that as you run more tests you are likely to get a value which\n",
        "# is statistically significant just by chance.\n",
        "\n",
        "# Lets see a simulation of this. First, lets create a data frame of 100 columns, each with 100 numbers"
      ],
      "metadata": {
        "id": "zYad4NiX94Js"
      },
      "execution_count": null,
      "outputs": []
    },
    {
      "cell_type": "code",
      "source": [
        "# Pause this and reflect -- do you understand the list comprehension and how I created this DataFrame? You\n",
        "# don't have to use a list comprehension to do this, but you should be able to read this and figure out how it\n",
        "# works as this is a commonly used approach on web forums."
      ],
      "metadata": {
        "id": "Scf2eWy4967l"
      },
      "execution_count": null,
      "outputs": []
    },
    {
      "cell_type": "code",
      "source": [
        "# Ok, let's create a second dataframe"
      ],
      "metadata": {
        "id": "FFrMI8ry98PV"
      },
      "execution_count": null,
      "outputs": []
    },
    {
      "cell_type": "code",
      "source": [
        "# Are these two DataFrames the same? Maybe a better question is, for a given row inside of df1, is it the same\n",
        "# as the row inside df2?\n",
        "\n",
        "# Let's take a look. Let's say our critical value is 0.1, or and alpha of 10%. And we're going to compare each\n",
        "# column in df1 to the same numbered column in df2. And we'll report when the p-value isn't less than 10%,\n",
        "# which means that we have sufficient evidence to say that the columns are different.\n",
        "\n",
        "# Let's write this in a function called test_columns"
      ],
      "metadata": {
        "id": "v9MWv4Zz-Aju"
      },
      "execution_count": null,
      "outputs": []
    },
    {
      "cell_type": "code",
      "source": [
        "# Let's write this in a function called test_columns\n",
        "\n",
        "    # I want to keep track of how many differ\n",
        "    \n",
        "    # And now we can just iterate over the columns\n",
        "    \n",
        "        # we can run out ttest_ind between the two dataframes\n",
        "        \n",
        "        # and we check the pvalue versus the alpha\n",
        "        \n",
        "            # And now we'll just print out if they are different and increment the num_diff\n",
        "            \n",
        "    # and let's print out some summary stats\n",
        "    \n",
        "\n",
        "# And now lets actually run this"
      ],
      "metadata": {
        "id": "u1MdI9nH-BQk"
      },
      "execution_count": null,
      "outputs": []
    },
    {
      "cell_type": "code",
      "source": [
        "# Interesting, so we see that there are a bunch of columns that are different! In fact, that number looks a\n",
        "# lot like the alpha value we chose. So what's going on - shouldn't all of the columns be the same? Remember\n",
        "# that all the ttest does is check if two sets are similar given some level of confidence, in our case, 10%.\n",
        "# The more random comparisons you do, the more will just happen to be the same by chance. In this example, we\n",
        "# checked 100 columns, so we would expect there to be roughly 10 of them if our alpha was 0.1.\n",
        "\n",
        "# We can test some other alpha values as well"
      ],
      "metadata": {
        "id": "0r3zMqpq-KK0"
      },
      "execution_count": null,
      "outputs": []
    },
    {
      "cell_type": "code",
      "source": [
        "# So, keep this in mind when you are doing statistical tests like the t-test which has a p-value. Understand\n",
        "# that this p-value isn't magic, that it's a threshold for you when reporting results and trying to answer\n",
        "# your hypothesis. What's a reasonable threshold? Depends on your question, and you need to engage domain\n",
        "# experts to better understand what they would consider significant.\n",
        "\n",
        "# Just for fun, lets recreate that second dataframe using a non-normal distribution, I'll arbitrarily chose\n",
        "# chi squared"
      ],
      "metadata": {
        "id": "4pVMuFLi-L7T"
      },
      "execution_count": null,
      "outputs": []
    }
  ]
}