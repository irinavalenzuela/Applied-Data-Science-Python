{
  "nbformat": 4,
  "nbformat_minor": 0,
  "metadata": {
    "colab": {
      "name": "Week4_Data_manipulation.ipynb",
      "provenance": [],
      "authorship_tag": "ABX9TyNr7F5GDxa6PCdmlKt0r/66",
      "include_colab_link": true
    },
    "kernelspec": {
      "name": "python3",
      "display_name": "Python 3"
    },
    "language_info": {
      "name": "python"
    }
  },
  "cells": [
    {
      "cell_type": "markdown",
      "metadata": {
        "id": "view-in-github",
        "colab_type": "text"
      },
      "source": [
        "<a href=\"https://colab.research.google.com/github/irinavalenzuela/Applied-Data-Science-Python/blob/main/Week4_Data_manipulation.ipynb\" target=\"_parent\"><img src=\"https://colab.research.google.com/assets/colab-badge.svg\" alt=\"Open In Colab\"/></a>"
      ]
    },
    {
      "cell_type": "markdown",
      "source": [
        "# Introduction to Data Science in Python\n",
        "\n",
        "## Week 4: Beyond Data Manipulation"
      ],
      "metadata": {
        "id": "z0w09YjL85lX"
      }
    },
    {
      "cell_type": "markdown",
      "source": [
        "## Basic Statistical Testing"
      ],
      "metadata": {
        "id": "87gjgInb9KW7"
      }
    },
    {
      "cell_type": "code",
      "source": [
        ""
      ],
      "metadata": {
        "id": "YppxgKLS9G1b"
      },
      "execution_count": null,
      "outputs": []
    }
  ]
}