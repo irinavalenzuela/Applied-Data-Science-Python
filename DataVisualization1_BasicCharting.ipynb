{
  "nbformat": 4,
  "nbformat_minor": 0,
  "metadata": {
    "colab": {
      "name": "DataVisualization1_BasicCharting.ipynb",
      "provenance": [],
      "authorship_tag": "ABX9TyMWvJW2qA6jYNIP3szuD+Sk",
      "include_colab_link": true
    },
    "kernelspec": {
      "name": "python3",
      "display_name": "Python 3"
    },
    "language_info": {
      "name": "python"
    }
  },
  "cells": [
    {
      "cell_type": "markdown",
      "metadata": {
        "id": "view-in-github",
        "colab_type": "text"
      },
      "source": [
        "<a href=\"https://colab.research.google.com/github/irinavalenzuela/Applied-Data-Science-Python/blob/main/DataVisualization1_BasicCharting.ipynb\" target=\"_parent\"><img src=\"https://colab.research.google.com/assets/colab-badge.svg\" alt=\"Open In Colab\"/></a>"
      ]
    },
    {
      "cell_type": "markdown",
      "source": [
        "# Applied Plotting, Charting & Data Representation in Python\n",
        "\n",
        "# Basic Charting\n"
      ],
      "metadata": {
        "id": "5_5_hxU-P-Mh"
      }
    },
    {
      "cell_type": "code",
      "execution_count": null,
      "metadata": {
        "colab": {
          "base_uri": "https://localhost:8080/"
        },
        "id": "dI0XKd0jPupY",
        "outputId": "22425d3e-8c2d-4fe1-82f5-f762cb575b40"
      },
      "outputs": [
        {
          "output_type": "stream",
          "name": "stdout",
          "text": [
            "Using matplotlib backend: agg\n"
          ]
        }
      ],
      "source": [
        "# You can show matplotlib figures directly in the notebook by using the %matplotlib notebook and %matplotlib inline magic commands.\n",
        "\n",
        "# %matplotlib notebook provides an interactive environment.\n",
        "\n",
        "%matplotlib"
      ]
    },
    {
      "cell_type": "code",
      "source": [
        "import matplotlib as mpl\n",
        "mpl.get_backend()"
      ],
      "metadata": {
        "id": "80DZKk5hQX7W",
        "colab": {
          "base_uri": "https://localhost:8080/",
          "height": 38
        },
        "outputId": "71b51252-95bf-45e7-fed8-1e5cef698898"
      },
      "execution_count": 1,
      "outputs": [
        {
          "output_type": "execute_result",
          "data": {
            "application/vnd.google.colaboratory.intrinsic+json": {
              "type": "string"
            },
            "text/plain": [
              "'module://ipykernel.pylab.backend_inline'"
            ]
          },
          "metadata": {},
          "execution_count": 1
        }
      ]
    },
    {
      "cell_type": "code",
      "source": [
        "import matplotlib.pyplot as plt\n",
        "plt.plot?"
      ],
      "metadata": {
        "id": "gMUlMX-NQl8c"
      },
      "execution_count": 3,
      "outputs": []
    },
    {
      "cell_type": "code",
      "source": [
        "plt.plot(3,2) # It needs a 3rd parameter telling how you want to represent the data"
      ],
      "metadata": {
        "colab": {
          "base_uri": "https://localhost:8080/",
          "height": 283
        },
        "id": "NGIBFhxMxP57",
        "outputId": "7d9085cc-45ef-41fa-e129-aadd1d9fd9e6"
      },
      "execution_count": 4,
      "outputs": [
        {
          "output_type": "execute_result",
          "data": {
            "text/plain": [
              "[<matplotlib.lines.Line2D at 0x7fd60a564590>]"
            ]
          },
          "metadata": {},
          "execution_count": 4
        },
        {
          "output_type": "display_data",
          "data": {
            "image/png": "[encoded data removed]",
            "text/plain": [
              "<Figure size 432x288 with 1 Axes>"
            ]
          },
          "metadata": {
            "needs_background": "light"
          }
        }
      ]
    },
    {
      "cell_type": "code",
      "source": [
        "# Let say to show as a point\n",
        "\n",
        "plt.plot(3,2, '.')"
      ],
      "metadata": {
        "colab": {
          "base_uri": "https://localhost:8080/",
          "height": 283
        },
        "id": "E2hoeLU4xi0_",
        "outputId": "d0534a51-2091-48b7-d505-73c0987056fe"
      },
      "execution_count": 5,
      "outputs": [
        {
          "output_type": "execute_result",
          "data": {
            "text/plain": [
              "[<matplotlib.lines.Line2D at 0x7fd6030ef8d0>]"
            ]
          },
          "metadata": {},
          "execution_count": 5
        },
        {
          "output_type": "display_data",
          "data": {
            "image/png": "[encoded data removed]",
            "text/plain": [
              "<Figure size 432x288 with 1 Axes>"
            ]
          },
          "metadata": {
            "needs_background": "light"
          }
        }
      ]
    },
    {
      "cell_type": "markdown",
      "source": [
        "## Scatterplot\n",
        "Two dimensional plot"
      ],
      "metadata": {
        "id": "dwiWEfwXzIqq"
      }
    },
    {
      "cell_type": "code",
      "source": [
        "import numpy as np\n",
        "\n",
        "x=np.array([1,2,3,4,5,6,7,8])\n",
        "y=x\n",
        "\n",
        "plt.figure()\n",
        "plt.scatter(x,y). # Similar to plt.plot(x,y)"
      ],
      "metadata": {
        "colab": {
          "base_uri": "https://localhost:8080/",
          "height": 283
        },
        "id": "zPgC313ozHuK",
        "outputId": "23c9d9f2-c390-4057-8680-581cc1bcd394"
      },
      "execution_count": 6,
      "outputs": [
        {
          "output_type": "execute_result",
          "data": {
            "text/plain": [
              "<matplotlib.collections.PathCollection at 0x7fd5feefe610>"
            ]
          },
          "metadata": {},
          "execution_count": 6
        },
        {
          "output_type": "display_data",
          "data": {
            "image/png": "[encoded data removed]",
            "text/plain": [
              "<Figure size 432x288 with 1 Axes>"
            ]
          },
          "metadata": {
            "needs_background": "light"
          }
        }
      ]
    },
    {
      "cell_type": "code",
      "source": [
        "# Create a list of colors for each point to have\n",
        "# colors = ['green','green','green','green','green','green','green','red' ]\n",
        "\n",
        "colors = ['green']*(len(x)-1)\n",
        "colors.append('red')\n",
        "\n",
        "plt.figure()\n",
        "\n",
        "# plot the points with size 100\n",
        "plt.scatter(x,y,s=100,c=colors  )"
      ],
      "metadata": {
        "colab": {
          "base_uri": "https://localhost:8080/",
          "height": 283
        },
        "id": "Ye_zqVi32YiH",
        "outputId": "45058c7d-6ac9-4234-db2d-a860b869382b"
      },
      "execution_count": 7,
      "outputs": [
        {
          "output_type": "execute_result",
          "data": {
            "text/plain": [
              "<matplotlib.collections.PathCollection at 0x7fd5fee41890>"
            ]
          },
          "metadata": {},
          "execution_count": 7
        },
        {
          "output_type": "display_data",
          "data": {
            "image/png": "[encoded data removed]",
            "text/plain": [
              "<Figure size 432x288 with 1 Axes>"
            ]
          },
          "metadata": {
            "needs_background": "light"
          }
        }
      ]
    },
    {
      "cell_type": "code",
      "source": [
        "# Zip: convert the two list into a list of tuples\n",
        "\n",
        "zip_generator = zip([1,2,3,4,5],[6,7,8,9,10])\n",
        "\n",
        "print(list(zip_generator))"
      ],
      "metadata": {
        "colab": {
          "base_uri": "https://localhost:8080/"
        },
        "id": "-QuGf5Kw57R2",
        "outputId": "9287e191-e5bb-4fd9-bc77-87ff8e7dd9a3"
      },
      "execution_count": 9,
      "outputs": [
        {
          "output_type": "stream",
          "name": "stdout",
          "text": [
            "[(1, 6), (2, 7), (3, 8), (4, 9), (5, 10)]\n"
          ]
        }
      ]
    },
    {
      "cell_type": "code",
      "source": [
        "zip_generator=zip ([1,2,3,4,5],[6,7,8,9,10])\n",
        "\n",
        "# the single * unpacks a collection into positional arguments\n",
        "\n",
        "print(*zip_generator)"
      ],
      "metadata": {
        "colab": {
          "base_uri": "https://localhost:8080/"
        },
        "id": "VOCOaKiq6oos",
        "outputId": "eb25b0e2-4bdd-4670-925a-8806917428c2"
      },
      "execution_count": 11,
      "outputs": [
        {
          "output_type": "stream",
          "name": "stdout",
          "text": [
            "(1, 6) (2, 7) (3, 8) (4, 9) (5, 10)\n"
          ]
        }
      ]
    },
    {
      "cell_type": "code",
      "source": [
        "# Use zip to convert 5 tuples with 2 elements each to 2 tuples with 5 elements\n",
        "print(list(zip((1,6),(2,7),(3,8),(4,9),(5,10))))\n"
      ],
      "metadata": {
        "colab": {
          "base_uri": "https://localhost:8080/"
        },
        "id": "YGUpAFOM7QSU",
        "outputId": "87f430de-6f10-4276-976f-0a92146b7bf9"
      },
      "execution_count": 12,
      "outputs": [
        {
          "output_type": "stream",
          "name": "stdout",
          "text": [
            "[(1, 2, 3, 4, 5), (6, 7, 8, 9, 10)]\n"
          ]
        }
      ]
    },
    {
      "cell_type": "code",
      "source": [
        "# Lets turn the data back into two list\n",
        "\n",
        "zip_generator=zip ([1,2,3,4,5],[6,7,8,9,10])\n",
        "\n",
        "x, y= zip(*zip_generator)\n",
        "\n",
        "print(x)\n",
        "print(y)"
      ],
      "metadata": {
        "colab": {
          "base_uri": "https://localhost:8080/"
        },
        "id": "NBUY_44F72yh",
        "outputId": "3b65468a-d171-49ac-bc9e-c7303d697152"
      },
      "execution_count": 13,
      "outputs": [
        {
          "output_type": "stream",
          "name": "stdout",
          "text": [
            "(1, 2, 3, 4, 5)\n",
            "(6, 7, 8, 9, 10)\n"
          ]
        }
      ]
    },
    {
      "cell_type": "code",
      "source": [
        "plt.figure()\n",
        "# Plot a data series 'Tall Students' in red using the first 2 elemnts\n",
        "plt.scatter(x[:2],y[:2], s=100, c='red',label='Tall students')\n",
        "\n",
        "# plot a second data series 'Short students' in blue using the last 3 elements\n",
        "plt.scatter(x[2:], y[2:], s=100, c='blue', label='Short students')\n",
        "\n",
        "# Add a label to the x-axis\n",
        "plt.xlabel('The number of times the child kick a ball')\n",
        "# Add a label to the y-axis\n",
        "plt.ylabel('The grade of the student')\n",
        "\n",
        "# Add a title\n",
        "plt.title('Relationship between kicking a ball and grades')\n",
        "\n",
        "# Add a legend located to loc=4 (lower right hand corner), get rid of the fame\n",
        "plt.legend(loc=4, frameon=False, title='Legend')"
      ],
      "metadata": {
        "colab": {
          "base_uri": "https://localhost:8080/",
          "height": 313
        },
        "id": "mj89yV0q8Tpd",
        "outputId": "f4d8c66d-2537-4df0-e17b-a3ec9709ce2c"
      },
      "execution_count": 15,
      "outputs": [
        {
          "output_type": "execute_result",
          "data": {
            "text/plain": [
              "<matplotlib.legend.Legend at 0x7fd5fec90490>"
            ]
          },
          "metadata": {},
          "execution_count": 15
        },
        {
          "output_type": "display_data",
          "data": {
            "image/png": "[encoded data removed]",
            "text/plain": [
              "<Figure size 432x288 with 1 Axes>"
            ]
          },
          "metadata": {
            "needs_background": "light"
          }
        }
      ]
    },
    {
      "cell_type": "markdown",
      "source": [
        "## Line Plots"
      ],
      "metadata": {
        "id": "eSKHbFjZ-Hry"
      }
    },
    {
      "cell_type": "code",
      "source": [
        ""
      ],
      "metadata": {
        "id": "BSAeDknR-Jjt"
      },
      "execution_count": null,
      "outputs": []
    }
  ]
}