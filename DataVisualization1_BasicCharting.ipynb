{
  "nbformat": 4,
  "nbformat_minor": 0,
  "metadata": {
    "colab": {
      "name": "DataVisualization1_BasicCharting.ipynb",
      "provenance": [],
      "authorship_tag": "ABX9TyP7U+HMSwLYQW+tKNPB8HA+",
      "include_colab_link": true
    },
    "kernelspec": {
      "name": "python3",
      "display_name": "Python 3"
    },
    "language_info": {
      "name": "python"
    }
  },
  "cells": [
    {
      "cell_type": "markdown",
      "metadata": {
        "id": "view-in-github",
        "colab_type": "text"
      },
      "source": [
        "<a href=\"https://colab.research.google.com/github/irinavalenzuela/Applied-Data-Science-Python/blob/main/DataVisualization1_BasicCharting.ipynb\" target=\"_parent\"><img src=\"https://colab.research.google.com/assets/colab-badge.svg\" alt=\"Open In Colab\"/></a>"
      ]
    },
    {
      "cell_type": "markdown",
      "source": [
        "# Applied Plotting, Charting & Data Representation in Python\n",
        "\n",
        "# Basic Charting\n"
      ],
      "metadata": {
        "id": "5_5_hxU-P-Mh"
      }
    },
    {
      "cell_type": "code",
      "execution_count": null,
      "metadata": {
        "colab": {
          "base_uri": "https://localhost:8080/"
        },
        "id": "dI0XKd0jPupY",
        "outputId": "22425d3e-8c2d-4fe1-82f5-f762cb575b40"
      },
      "outputs": [
        {
          "output_type": "stream",
          "name": "stdout",
          "text": [
            "Using matplotlib backend: agg\n"
          ]
        }
      ],
      "source": [
        "# You can show matplotlib figures directly in the notebook by using the %matplotlib notebook and %matplotlib inline magic commands.\n",
        "\n",
        "# %matplotlib notebook provides an interactive environment.\n",
        "\n",
        "%matplotlib"
      ]
    },
    {
      "cell_type": "code",
      "source": [
        "import matplotlib as mpl\n",
        "mpl.get_backend()"
      ],
      "metadata": {
        "id": "80DZKk5hQX7W",
        "outputId": "71b51252-95bf-45e7-fed8-1e5cef698898",
        "colab": {
          "base_uri": "https://localhost:8080/",
          "height": 38
        }
      },
      "execution_count": 1,
      "outputs": [
        {
          "output_type": "execute_result",
          "data": {
            "application/vnd.google.colaboratory.intrinsic+json": {
              "type": "string"
            },
            "text/plain": [
              "'module://ipykernel.pylab.backend_inline'"
            ]
          },
          "metadata": {},
          "execution_count": 1
        }
      ]
    },
    {
      "cell_type": "code",
      "source": [
        "import matplotlib.pyplot as plt\n",
        "plt.plot?"
      ],
      "metadata": {
        "id": "gMUlMX-NQl8c"
      },
      "execution_count": 3,
      "outputs": []
    },
    {
      "cell_type": "code",
      "source": [
        "plt.plot(3,2) # It needs a 3rd parameter telling how you want to represent the data"
      ],
      "metadata": {
        "id": "NGIBFhxMxP57",
        "outputId": "7d9085cc-45ef-41fa-e129-aadd1d9fd9e6",
        "colab": {
          "base_uri": "https://localhost:8080/",
          "height": 283
        }
      },
      "execution_count": 4,
      "outputs": [
        {
          "output_type": "execute_result",
          "data": {
            "text/plain": [
              "[<matplotlib.lines.Line2D at 0x7fd60a564590>]"
            ]
          },
          "metadata": {},
          "execution_count": 4
        },
        {
          "output_type": "display_data",
          "data": {
            "image/png": "[encoded data removed]",
            "text/plain": [
              "<Figure size 432x288 with 1 Axes>"
            ]
          },
          "metadata": {
            "needs_background": "light"
          }
        }
      ]
    },
    {
      "cell_type": "code",
      "source": [
        "# Let say to show as a point\n",
        "\n",
        "plt.plot(3,2, '.')"
      ],
      "metadata": {
        "id": "E2hoeLU4xi0_",
        "outputId": "d0534a51-2091-48b7-d505-73c0987056fe",
        "colab": {
          "base_uri": "https://localhost:8080/",
          "height": 283
        }
      },
      "execution_count": 5,
      "outputs": [
        {
          "output_type": "execute_result",
          "data": {
            "text/plain": [
              "[<matplotlib.lines.Line2D at 0x7fd6030ef8d0>]"
            ]
          },
          "metadata": {},
          "execution_count": 5
        },
        {
          "output_type": "display_data",
          "data": {
            "image/png": "[encoded data removed]",
            "text/plain": [
              "<Figure size 432x288 with 1 Axes>"
            ]
          },
          "metadata": {
            "needs_background": "light"
          }
        }
      ]
    },
    {
      "cell_type": "markdown",
      "source": [
        "## Scatterplot\n",
        "Two dimensional plot"
      ],
      "metadata": {
        "id": "dwiWEfwXzIqq"
      }
    },
    {
      "cell_type": "code",
      "source": [
        "import numpy as np\n",
        "\n",
        "x=np.array([1,2,3,4,5,6,7,8])\n",
        "y=x\n",
        "\n",
        "plt.figure()\n",
        "plt.scatter(x,y). # Similar to plt.plot(x,y)"
      ],
      "metadata": {
        "id": "zPgC313ozHuK",
        "outputId": "23c9d9f2-c390-4057-8680-581cc1bcd394",
        "colab": {
          "base_uri": "https://localhost:8080/",
          "height": 283
        }
      },
      "execution_count": 6,
      "outputs": [
        {
          "output_type": "execute_result",
          "data": {
            "text/plain": [
              "<matplotlib.collections.PathCollection at 0x7fd5feefe610>"
            ]
          },
          "metadata": {},
          "execution_count": 6
        },
        {
          "output_type": "display_data",
          "data": {
            "image/png": "[encoded data removed]",
            "text/plain": [
              "<Figure size 432x288 with 1 Axes>"
            ]
          },
          "metadata": {
            "needs_background": "light"
          }
        }
      ]
    },
    {
      "cell_type": "code",
      "source": [
        "# Create a list of colors for each point to have\n",
        "# colors = ['green','green','green','green','green','green','green','red' ]\n",
        "\n",
        "colors = ['green']*(len(x)-1)\n",
        "colors.append('red')\n",
        "\n",
        "plt.figure()\n",
        "\n",
        "# plot the points with size 100\n",
        "plt.scatter(x,y,s=100,c=colors  )"
      ],
      "metadata": {
        "id": "Ye_zqVi32YiH",
        "outputId": "45058c7d-6ac9-4234-db2d-a860b869382b",
        "colab": {
          "base_uri": "https://localhost:8080/",
          "height": 283
        }
      },
      "execution_count": 7,
      "outputs": [
        {
          "output_type": "execute_result",
          "data": {
            "text/plain": [
              "<matplotlib.collections.PathCollection at 0x7fd5fee41890>"
            ]
          },
          "metadata": {},
          "execution_count": 7
        },
        {
          "output_type": "display_data",
          "data": {
            "image/png": "[encoded data removed]",
            "text/plain": [
              "<Figure size 432x288 with 1 Axes>"
            ]
          },
          "metadata": {
            "needs_background": "light"
          }
        }
      ]
    },
    {
      "cell_type": "code",
      "source": [
        ""
      ],
      "metadata": {
        "id": "-QuGf5Kw57R2"
      },
      "execution_count": null,
      "outputs": []
    }
  ]
}