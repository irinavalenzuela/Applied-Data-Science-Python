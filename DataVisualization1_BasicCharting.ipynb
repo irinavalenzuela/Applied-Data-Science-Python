{
  "nbformat": 4,
  "nbformat_minor": 0,
  "metadata": {
    "colab": {
      "name": "DataVisualization1_BasicCharting.ipynb",
      "provenance": [],
      "authorship_tag": "ABX9TyO/ySLvKNbOYY0a8r9ZOad/",
      "include_colab_link": true
    },
    "kernelspec": {
      "name": "python3",
      "display_name": "Python 3"
    },
    "language_info": {
      "name": "python"
    }
  },
  "cells": [
    {
      "cell_type": "markdown",
      "metadata": {
        "id": "view-in-github",
        "colab_type": "text"
      },
      "source": [
        "<a href=\"https://colab.research.google.com/github/irinavalenzuela/Applied-Data-Science-Python/blob/main/DataVisualization1_BasicCharting.ipynb\" target=\"_parent\"><img src=\"https://colab.research.google.com/assets/colab-badge.svg\" alt=\"Open In Colab\"/></a>"
      ]
    },
    {
      "cell_type": "markdown",
      "source": [
        "# Applied Plotting, Charting & Data Representation in Python\n",
        "\n",
        "# Basic Charting\n"
      ],
      "metadata": {
        "id": "5_5_hxU-P-Mh"
      }
    },
    {
      "cell_type": "code",
      "execution_count": 1,
      "metadata": {
        "colab": {
          "base_uri": "https://localhost:8080/"
        },
        "id": "dI0XKd0jPupY",
        "outputId": "22425d3e-8c2d-4fe1-82f5-f762cb575b40"
      },
      "outputs": [
        {
          "output_type": "stream",
          "name": "stdout",
          "text": [
            "Using matplotlib backend: agg\n"
          ]
        }
      ],
      "source": [
        "# You can show matplotlib figures directly in the notebook by using the %matplotlib notebook and %matplotlib inline magic commands.\n",
        "\n",
        "# %matplotlib notebook provides an interactive environment.\n",
        "\n",
        "%matplotlib"
      ]
    },
    {
      "cell_type": "code",
      "source": [
        "import matplotlib as mpl\n",
        "mpl.get_backend()"
      ],
      "metadata": {
        "id": "80DZKk5hQX7W"
      },
      "execution_count": null,
      "outputs": []
    },
    {
      "cell_type": "code",
      "source": [
        ""
      ],
      "metadata": {
        "id": "gMUlMX-NQl8c"
      },
      "execution_count": null,
      "outputs": []
    }
  ]
}