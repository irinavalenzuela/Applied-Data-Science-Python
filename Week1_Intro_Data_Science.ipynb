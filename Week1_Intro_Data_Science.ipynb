{
  "nbformat": 4,
  "nbformat_minor": 0,
  "metadata": {
    "colab": {
      "name": "Week1_Intro_Data_Science.ipynb",
      "provenance": [],
      "authorship_tag": "ABX9TyMBQdmjWWk+WtDs5MXg5hnA",
      "include_colab_link": true
    },
    "kernelspec": {
      "name": "python3",
      "display_name": "Python 3"
    },
    "language_info": {
      "name": "python"
    }
  },
  "cells": [
    {
      "cell_type": "markdown",
      "metadata": {
        "id": "view-in-github",
        "colab_type": "text"
      },
      "source": [
        "<a href=\"https://colab.research.google.com/github/irinavalenzuela/Introduction-to-Python/blob/main/Week1_Intro_Data_Science.ipynb\" target=\"_parent\"><img src=\"https://colab.research.google.com/assets/colab-badge.svg\" alt=\"Open In Colab\"/></a>"
      ]
    },
    {
      "cell_type": "markdown",
      "metadata": {
        "id": "26kiAIuJqU_r"
      },
      "source": [
        "# Course: Data Science\n",
        "\n",
        "### Numerical Python Library"
      ]
    },
    {
      "cell_type": "code",
      "metadata": {
        "id": "vJL_t3syq3zz"
      },
      "source": [
        "\n",
        "drive.mount('/content/drive')"
      ],
      "execution_count": null,
      "outputs": []
    }
  ]
}