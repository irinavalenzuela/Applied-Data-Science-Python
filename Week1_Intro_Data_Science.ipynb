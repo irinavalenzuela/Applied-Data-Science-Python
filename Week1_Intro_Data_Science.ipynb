{
  "nbformat": 4,
  "nbformat_minor": 0,
  "metadata": {
    "colab": {
      "name": "Week1_Intro_Data_Science.ipynb",
      "provenance": [],
      "include_colab_link": true
    },
    "kernelspec": {
      "name": "python3",
      "display_name": "Python 3"
    },
    "language_info": {
      "name": "python"
    }
  },
  "cells": [
    {
      "cell_type": "markdown",
      "metadata": {
        "id": "view-in-github",
        "colab_type": "text"
      },
      "source": [
        "<a href=\"https://colab.research.google.com/github/irinavalenzuela/Applied-Data-Science-Python/blob/main/Week1_Intro_Data_Science.ipynb\" target=\"_parent\"><img src=\"https://colab.research.google.com/assets/colab-badge.svg\" alt=\"Open In Colab\"/></a>"
      ]
    },
    {
      "cell_type": "markdown",
      "metadata": {
        "id": "26kiAIuJqU_r"
      },
      "source": [
        "# Introduction to Data Science in Python\n",
        "\n",
        "## Week 1\n",
        "### Numerical Python Library"
      ]
    },
    {
      "cell_type": "code",
      "source": [
        "# Import numpy\n",
        "import numpy as np\n",
        "import math"
      ],
      "metadata": {
        "id": "YrsKAiuMq_pO"
      },
      "execution_count": 6,
      "outputs": []
    },
    {
      "cell_type": "code",
      "source": [
        "# Array Creation\n",
        "\n",
        "# The argument of an array is a list\n",
        "a = np.array([2,3,4])\n",
        "print(a)\n",
        "\n",
        "# Print the number of dimensions of a list using ndim\n",
        "print(a.ndim)"
      ],
      "metadata": {
        "colab": {
          "base_uri": "https://localhost:8080/"
        },
        "id": "c4GX4xqhqzhQ",
        "outputId": "10581746-6472-425f-8334-20dcf7105953"
      },
      "execution_count": 7,
      "outputs": [
        {
          "output_type": "stream",
          "name": "stdout",
          "text": [
            "[2 3 4]\n",
            "1\n"
          ]
        }
      ]
    },
    {
      "cell_type": "code",
      "metadata": {
        "id": "vJL_t3syq3zz"
      },
      "source": [
        ""
      ],
      "execution_count": null,
      "outputs": []
    }
  ]
}