{
  "nbformat": 4,
  "nbformat_minor": 0,
  "metadata": {
    "colab": {
      "name": "Week1_Intro_Data_Science.ipynb",
      "provenance": [],
      "include_colab_link": true
    },
    "kernelspec": {
      "name": "python3",
      "display_name": "Python 3"
    },
    "language_info": {
      "name": "python"
    }
  },
  "cells": [
    {
      "cell_type": "markdown",
      "metadata": {
        "id": "view-in-github",
        "colab_type": "text"
      },
      "source": [
        "<a href=\"https://colab.research.google.com/github/irinavalenzuela/Applied-Data-Science-Python/blob/main/Week1_Intro_Data_Science.ipynb\" target=\"_parent\"><img src=\"https://colab.research.google.com/assets/colab-badge.svg\" alt=\"Open In Colab\"/></a>"
      ]
    },
    {
      "cell_type": "markdown",
      "metadata": {
        "id": "26kiAIuJqU_r"
      },
      "source": [
        "# Introduction to Data Science in Python\n",
        "\n",
        "## Week 1\n",
        "### Numerical Python Library"
      ]
    },
    {
      "cell_type": "code",
      "source": [
        "# Import numpy\n",
        "import numpy as np\n",
        "import math"
      ],
      "metadata": {
        "id": "YrsKAiuMq_pO"
      },
      "execution_count": 6,
      "outputs": []
    },
    {
      "cell_type": "code",
      "source": [
        "# Array Creation\n",
        "\n",
        "# The argument of an array is a list\n",
        "a = np.array([2,3,4])\n",
        "print(a)\n",
        "\n",
        "# Print the number of dimensions of a list using ndim\n",
        "print(a.ndim)"
      ],
      "metadata": {
        "colab": {
          "base_uri": "https://localhost:8080/"
        },
        "id": "c4GX4xqhqzhQ",
        "outputId": "10581746-6472-425f-8334-20dcf7105953"
      },
      "execution_count": 7,
      "outputs": [
        {
          "output_type": "stream",
          "name": "stdout",
          "text": [
            "[2 3 4]\n",
            "1\n"
          ]
        }
      ]
    },
    {
      "cell_type": "code",
      "metadata": {
        "id": "vJL_t3syq3zz",
        "colab": {
          "base_uri": "https://localhost:8080/"
        },
        "outputId": "a1404c64-6871-4a05-cf28-6f5b0632f550"
      },
      "source": [
        "# List of lists in numpy array --> Matrix\n",
        "b = np.array([[1,4,5],[4,6,8]])\n",
        "b\n",
        "\n",
        "# Print the lengh of each dimension: shape attribute\n",
        "b.shape"
      ],
      "execution_count": 10,
      "outputs": [
        {
          "output_type": "execute_result",
          "data": {
            "text/plain": [
              "(2, 3)"
            ]
          },
          "metadata": {},
          "execution_count": 10
        }
      ]
    },
    {
      "cell_type": "code",
      "source": [
        "# Check the type of items in the array\n",
        "a.dtype\n",
        "b.dtype"
      ],
      "metadata": {
        "id": "tcD5KVwmtwsw",
        "outputId": "31116201-3c53-47fe-aa1d-131f40b780c5",
        "colab": {
          "base_uri": "https://localhost:8080/"
        }
      },
      "execution_count": 11,
      "outputs": [
        {
          "output_type": "execute_result",
          "data": {
            "text/plain": [
              "dtype('int64')"
            ]
          },
          "metadata": {},
          "execution_count": 11
        }
      ]
    },
    {
      "cell_type": "code",
      "source": [
        "# Lets create two arrays\n",
        "d = np.zeros((2,3))\n",
        "print(d)\n",
        "\n",
        "e=np.ones((2,3))\n",
        "print(e)"
      ],
      "metadata": {
        "id": "XNxATid7uVQY",
        "outputId": "3031ce72-7f42-4b53-9f04-d8d54b1a9aa1",
        "colab": {
          "base_uri": "https://localhost:8080/"
        }
      },
      "execution_count": 12,
      "outputs": [
        {
          "output_type": "stream",
          "name": "stdout",
          "text": [
            "[[0. 0. 0.]\n",
            " [0. 0. 0.]]\n",
            "[[1. 1. 1.]\n",
            " [1. 1. 1.]]\n"
          ]
        }
      ]
    },
    {
      "cell_type": "code",
      "source": [
        "# Array with random numbers\n",
        "\n",
        "np.random.rand(2,3)"
      ],
      "metadata": {
        "id": "jMKxYvbPvGG-",
        "outputId": "3ce6edcf-63ed-460f-8092-debf24b5ccf1",
        "colab": {
          "base_uri": "https://localhost:8080/"
        }
      },
      "execution_count": 13,
      "outputs": [
        {
          "output_type": "execute_result",
          "data": {
            "text/plain": [
              "array([[0.38792015, 0.97494855, 0.88281443],\n",
              "       [0.4796278 , 0.77931887, 0.77234743]])"
            ]
          },
          "metadata": {},
          "execution_count": 13
        }
      ]
    },
    {
      "cell_type": "code",
      "source": [
        "# Array of every even number from 10 to 50\n",
        "f = np.arange(10,50,2)\n",
        "f"
      ],
      "metadata": {
        "id": "foFwh7nRvUuG"
      },
      "execution_count": null,
      "outputs": []
    },
    {
      "cell_type": "code",
      "source": [
        "# linspace: sequence of floats from 0 to 2, the 3rd argument is the total number of items\n",
        "np.linspace(0,2,15)"
      ],
      "metadata": {
        "id": "kSWD_ECyv5cS",
        "outputId": "be1aebe6-d9eb-46e4-b622-59e33af1c8aa",
        "colab": {
          "base_uri": "https://localhost:8080/"
        }
      },
      "execution_count": 18,
      "outputs": [
        {
          "output_type": "execute_result",
          "data": {
            "text/plain": [
              "array([0.        , 0.14285714, 0.28571429, 0.42857143, 0.57142857,\n",
              "       0.71428571, 0.85714286, 1.        , 1.14285714, 1.28571429,\n",
              "       1.42857143, 1.57142857, 1.71428571, 1.85714286, 2.        ])"
            ]
          },
          "metadata": {},
          "execution_count": 18
        }
      ]
    },
    {
      "cell_type": "code",
      "source": [
        "# Array operations\n"
      ],
      "metadata": {
        "id": "w1N3HOgjwZyV"
      },
      "execution_count": null,
      "outputs": []
    },
    {
      "cell_type": "code",
      "source": [
        "a = np.array([10,20,30,40])\n",
        "b = np.array([1,2,3,4])\n",
        "\n",
        "# A - B\n",
        "c = a-b\n",
        "print(c)\n",
        "\n",
        "# A times B\n",
        "d = a*b\n",
        "print(d)"
      ],
      "metadata": {
        "id": "ADZaqSuDwejF",
        "outputId": "7c322ea0-56e9-4c8d-e52c-b3227e0d8fb8",
        "colab": {
          "base_uri": "https://localhost:8080/"
        }
      },
      "execution_count": 19,
      "outputs": [
        {
          "output_type": "stream",
          "name": "stdout",
          "text": [
            "[ 9 18 27 36]\n",
            "[ 10  40  90 160]\n"
          ]
        }
      ]
    },
    {
      "cell_type": "code",
      "source": [
        ""
      ],
      "metadata": {
        "id": "36jQn-VEw7bV"
      },
      "execution_count": null,
      "outputs": []
    }
  ]
}