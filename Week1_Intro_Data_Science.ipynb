{
  "nbformat": 4,
  "nbformat_minor": 0,
  "metadata": {
    "colab": {
      "name": "Week1_Intro_Data_Science.ipynb",
      "provenance": [],
      "include_colab_link": true
    },
    "kernelspec": {
      "name": "python3",
      "display_name": "Python 3"
    },
    "language_info": {
      "name": "python"
    }
  },
  "cells": [
    {
      "cell_type": "markdown",
      "metadata": {
        "id": "view-in-github",
        "colab_type": "text"
      },
      "source": [
        "<a href=\"https://colab.research.google.com/github/irinavalenzuela/Applied-Data-Science-Python/blob/main/Week1_Intro_Data_Science.ipynb\" target=\"_parent\"><img src=\"https://colab.research.google.com/assets/colab-badge.svg\" alt=\"Open In Colab\"/></a>"
      ]
    },
    {
      "cell_type": "markdown",
      "metadata": {
        "id": "26kiAIuJqU_r"
      },
      "source": [
        "# Introduction to Data Science in Python\n",
        "\n",
        "## Week 1\n",
        "### Numerical Python Library"
      ]
    },
    {
      "cell_type": "code",
      "source": [
        "# Import numpy\n",
        "import numpy as np\n",
        "import math"
      ],
      "metadata": {
        "id": "YrsKAiuMq_pO"
      },
      "execution_count": 6,
      "outputs": []
    },
    {
      "cell_type": "code",
      "source": [
        "# Array Creation\n",
        "\n",
        "# The argument of an array is a list\n",
        "a = np.array([2,3,4])\n",
        "print(a)\n",
        "\n",
        "# Print the number of dimensions of a list using ndim\n",
        "print(a.ndim)"
      ],
      "metadata": {
        "colab": {
          "base_uri": "https://localhost:8080/"
        },
        "id": "c4GX4xqhqzhQ",
        "outputId": "10581746-6472-425f-8334-20dcf7105953"
      },
      "execution_count": 7,
      "outputs": [
        {
          "output_type": "stream",
          "name": "stdout",
          "text": [
            "[2 3 4]\n",
            "1\n"
          ]
        }
      ]
    },
    {
      "cell_type": "code",
      "metadata": {
        "id": "vJL_t3syq3zz",
        "colab": {
          "base_uri": "https://localhost:8080/"
        },
        "outputId": "a1404c64-6871-4a05-cf28-6f5b0632f550"
      },
      "source": [
        "# List of lists in numpy array --> Matrix\n",
        "b = np.array([[1,4,5],[4,6,8]])\n",
        "b\n",
        "\n",
        "# Print the lengh of each dimension: shape attribute\n",
        "b.shape"
      ],
      "execution_count": 10,
      "outputs": [
        {
          "output_type": "execute_result",
          "data": {
            "text/plain": [
              "(2, 3)"
            ]
          },
          "metadata": {},
          "execution_count": 10
        }
      ]
    },
    {
      "cell_type": "code",
      "source": [
        "# Check the type of items in the array\n",
        "a.dtype\n",
        "b.dtype"
      ],
      "metadata": {
        "colab": {
          "base_uri": "https://localhost:8080/"
        },
        "id": "tcD5KVwmtwsw",
        "outputId": "31116201-3c53-47fe-aa1d-131f40b780c5"
      },
      "execution_count": 11,
      "outputs": [
        {
          "output_type": "execute_result",
          "data": {
            "text/plain": [
              "dtype('int64')"
            ]
          },
          "metadata": {},
          "execution_count": 11
        }
      ]
    },
    {
      "cell_type": "code",
      "source": [
        "# Lets create two arrays\n",
        "d = np.zeros((2,3))\n",
        "print(d)\n",
        "\n",
        "e=np.ones((2,3))\n",
        "print(e)"
      ],
      "metadata": {
        "colab": {
          "base_uri": "https://localhost:8080/"
        },
        "id": "XNxATid7uVQY",
        "outputId": "3031ce72-7f42-4b53-9f04-d8d54b1a9aa1"
      },
      "execution_count": 12,
      "outputs": [
        {
          "output_type": "stream",
          "name": "stdout",
          "text": [
            "[[0. 0. 0.]\n",
            " [0. 0. 0.]]\n",
            "[[1. 1. 1.]\n",
            " [1. 1. 1.]]\n"
          ]
        }
      ]
    },
    {
      "cell_type": "code",
      "source": [
        "# Array with random numbers\n",
        "\n",
        "np.random.rand(2,3)"
      ],
      "metadata": {
        "colab": {
          "base_uri": "https://localhost:8080/"
        },
        "id": "jMKxYvbPvGG-",
        "outputId": "3ce6edcf-63ed-460f-8092-debf24b5ccf1"
      },
      "execution_count": 13,
      "outputs": [
        {
          "output_type": "execute_result",
          "data": {
            "text/plain": [
              "array([[0.38792015, 0.97494855, 0.88281443],\n",
              "       [0.4796278 , 0.77931887, 0.77234743]])"
            ]
          },
          "metadata": {},
          "execution_count": 13
        }
      ]
    },
    {
      "cell_type": "code",
      "source": [
        "# Array of every even number from 10 to 50\n",
        "f = np.arange(10,50,2)\n",
        "f"
      ],
      "metadata": {
        "id": "foFwh7nRvUuG"
      },
      "execution_count": null,
      "outputs": []
    },
    {
      "cell_type": "code",
      "source": [
        "# linspace: sequence of floats from 0 to 2, the 3rd argument is the total number of items\n",
        "np.linspace(0,2,15)"
      ],
      "metadata": {
        "colab": {
          "base_uri": "https://localhost:8080/"
        },
        "id": "kSWD_ECyv5cS",
        "outputId": "be1aebe6-d9eb-46e4-b622-59e33af1c8aa"
      },
      "execution_count": 18,
      "outputs": [
        {
          "output_type": "execute_result",
          "data": {
            "text/plain": [
              "array([0.        , 0.14285714, 0.28571429, 0.42857143, 0.57142857,\n",
              "       0.71428571, 0.85714286, 1.        , 1.14285714, 1.28571429,\n",
              "       1.42857143, 1.57142857, 1.71428571, 1.85714286, 2.        ])"
            ]
          },
          "metadata": {},
          "execution_count": 18
        }
      ]
    },
    {
      "cell_type": "code",
      "source": [
        "# Array operations\n"
      ],
      "metadata": {
        "id": "w1N3HOgjwZyV"
      },
      "execution_count": null,
      "outputs": []
    },
    {
      "cell_type": "code",
      "source": [
        "a = np.array([10,20,30,40])\n",
        "b = np.array([1,2,3,4])\n",
        "\n",
        "# A - B\n",
        "c = a-b\n",
        "print(c)\n",
        "\n",
        "# A times B\n",
        "d = a*b\n",
        "print(d)"
      ],
      "metadata": {
        "colab": {
          "base_uri": "https://localhost:8080/"
        },
        "id": "ADZaqSuDwejF",
        "outputId": "7c322ea0-56e9-4c8d-e52c-b3227e0d8fb8"
      },
      "execution_count": 19,
      "outputs": [
        {
          "output_type": "stream",
          "name": "stdout",
          "text": [
            "[ 9 18 27 36]\n",
            "[ 10  40  90 160]\n"
          ]
        }
      ]
    },
    {
      "cell_type": "code",
      "source": [
        "# Convert F to Celcius\n",
        "farenheit = np.array([0, -23,-10,0])\n",
        "\n",
        "# Conversion formula: C = (F-32) * 5/9\n",
        "celcius = (farenheit - 32) * 5/9\n",
        "celcius"
      ],
      "metadata": {
        "colab": {
          "base_uri": "https://localhost:8080/"
        },
        "id": "36jQn-VEw7bV",
        "outputId": "819935a8-c0fc-401c-ac0c-c7a1952cde7c"
      },
      "execution_count": 29,
      "outputs": [
        {
          "output_type": "execute_result",
          "data": {
            "text/plain": [
              "array([-17.77777778, -30.55555556, -23.33333333, -17.77777778])"
            ]
          },
          "metadata": {},
          "execution_count": 29
        }
      ]
    },
    {
      "cell_type": "code",
      "source": [
        "# Boolean Array: true emitted if meets the condition\n",
        "\n",
        "# Celcius degree greater than -20\n",
        "celcius>-20"
      ],
      "metadata": {
        "id": "2fTzZfSHzWqn",
        "outputId": "5832413c-eff9-4ecc-feba-4a845685ae93",
        "colab": {
          "base_uri": "https://localhost:8080/"
        }
      },
      "execution_count": 30,
      "outputs": [
        {
          "output_type": "execute_result",
          "data": {
            "text/plain": [
              "array([ True, False, False,  True])"
            ]
          },
          "metadata": {},
          "execution_count": 30
        }
      ]
    },
    {
      "cell_type": "code",
      "source": [
        "# Modulus operator to see if an array is even (if divide by 2, then remainder shoud be 0)\n",
        "celcius%2 ==0"
      ],
      "metadata": {
        "id": "oRMCvlTeznpO",
        "outputId": "61d00f91-d60f-412d-dd08-0d334227e683",
        "colab": {
          "base_uri": "https://localhost:8080/"
        }
      },
      "execution_count": 31,
      "outputs": [
        {
          "output_type": "execute_result",
          "data": {
            "text/plain": [
              "array([False, False, False, False])"
            ]
          },
          "metadata": {},
          "execution_count": 31
        }
      ]
    },
    {
      "cell_type": "code",
      "source": [
        "# Matrix product: elementwise product\n",
        "\n",
        "A = np.array([[1,1],[0,1]])\n",
        "B = np.array([[2,0],[3,4]])\n",
        "print(A*B)\n",
        "\n",
        "# Matrix product\n",
        "print(A@B)\n"
      ],
      "metadata": {
        "id": "Q_fMOCNK0J9l",
        "outputId": "d29fd90a-9d31-4a58-a27a-c40a8d9f6f0a",
        "colab": {
          "base_uri": "https://localhost:8080/"
        }
      },
      "execution_count": 32,
      "outputs": [
        {
          "output_type": "stream",
          "name": "stdout",
          "text": [
            "[[2 0]\n",
            " [0 4]]\n",
            "[[5 4]\n",
            " [3 4]]\n"
          ]
        }
      ]
    },
    {
      "cell_type": "code",
      "source": [
        "# See the shape of a matrix\n",
        "A.shape\n",
        "B.shape"
      ],
      "metadata": {
        "id": "EetsHaqq0uZe",
        "outputId": "77d16909-d0a1-40a7-9832-2f9ad39b16f1",
        "colab": {
          "base_uri": "https://localhost:8080/"
        }
      },
      "execution_count": 33,
      "outputs": [
        {
          "output_type": "execute_result",
          "data": {
            "text/plain": [
              "(2, 2)"
            ]
          },
          "metadata": {},
          "execution_count": 33
        }
      ]
    },
    {
      "cell_type": "code",
      "source": [
        "# Arrays of different types. The resulting array will be the more general of the two types (upscastiing)\n",
        "\n",
        "# Array of integers\n",
        "array1 = np.array([[1,2,3],[4,5,6]])\n",
        "print(array1.dtype)\n",
        "\n",
        "# Array of floats\n",
        "array2 = np.array([[7.1,8.2,9.1],[10.4,11.2,12.3]])\n",
        "print(array2.dtype)\n",
        "\n",
        "# Addition\n",
        "array3 = array1 + array2\n",
        "print(array3) # the resulting array have been upcast into floating numbers\n",
        "print(array3.dtype)"
      ],
      "metadata": {
        "id": "xiPtRUxr0_2W",
        "outputId": "4208f2ec-8ec9-42a6-ff6e-86ea3ed98418",
        "colab": {
          "base_uri": "https://localhost:8080/"
        }
      },
      "execution_count": 36,
      "outputs": [
        {
          "output_type": "stream",
          "name": "stdout",
          "text": [
            "int64\n",
            "float64\n",
            "[[ 8.1 10.2 12.1]\n",
            " [14.4 16.2 18.3]]\n",
            "float64\n"
          ]
        }
      ]
    },
    {
      "cell_type": "code",
      "source": [
        "# Aggregation functions\n",
        "\n",
        "print(array3.sum())\n",
        "print(array3.min())\n",
        "print(array2.max())\n",
        "print(array1.mean())"
      ],
      "metadata": {
        "id": "aURBCu-y2EGF",
        "outputId": "1c2b513c-af6d-48a2-e95f-bcb0a7f7b730",
        "colab": {
          "base_uri": "https://localhost:8080/"
        }
      },
      "execution_count": 37,
      "outputs": [
        {
          "output_type": "stream",
          "name": "stdout",
          "text": [
            "79.3\n",
            "8.1\n",
            "12.3\n",
            "3.5\n"
          ]
        }
      ]
    },
    {
      "cell_type": "code",
      "source": [
        "# Create an array with 15 elements with a dim 3x5\n",
        "\n",
        "b = np.arange(1,16,1).reshape(3,5)\n",
        "print(b)"
      ],
      "metadata": {
        "id": "RcC4yWkE2iTi",
        "outputId": "1ca336ea-36ec-44f1-baab-2cef5a766761",
        "colab": {
          "base_uri": "https://localhost:8080/"
        }
      },
      "execution_count": 39,
      "outputs": [
        {
          "output_type": "stream",
          "name": "stdout",
          "text": [
            "[[ 1  2  3  4  5]\n",
            " [ 6  7  8  9 10]\n",
            " [11 12 13 14 15]]\n"
          ]
        }
      ]
    },
    {
      "cell_type": "code",
      "source": [
        "# Use python imaging library (PIL) \n",
        "# Function to display images in the notebook\n",
        "from PIL import Image\n",
        "from IPython.display import display\n",
        "\n",
        "\n",
        "im= Image.open(chris)\n",
        "display(im)\n"
      ],
      "metadata": {
        "id": "u9-GZSCW3Bfg",
        "outputId": "a74ab48d-0140-46a9-b370-be548e124390",
        "colab": {
          "base_uri": "https://localhost:8080/",
          "height": 405
        }
      },
      "execution_count": 45,
      "outputs": [
        {
          "output_type": "error",
          "ename": "FileNotFoundError",
          "evalue": "ignored",
          "traceback": [
            "\u001b[0;31m---------------------------------------------------------------------------\u001b[0m",
            "\u001b[0;31mFileNotFoundError\u001b[0m                         Traceback (most recent call last)",
            "\u001b[0;32m<ipython-input-45-63e08b37093b>\u001b[0m in \u001b[0;36m<module>\u001b[0;34m()\u001b[0m\n\u001b[1;32m      6\u001b[0m \u001b[0mchris\u001b[0m \u001b[0;34m=\u001b[0m \u001b[0;34m'https://raw.githubusercontent.com/irinavalenzuela/Applied-Data-Science-Python/main/1_Introduction_Data_Science_in_Python/Week1/chris.tiff'\u001b[0m\u001b[0;34m\u001b[0m\u001b[0;34m\u001b[0m\u001b[0m\n\u001b[1;32m      7\u001b[0m \u001b[0;34m\u001b[0m\u001b[0m\n\u001b[0;32m----> 8\u001b[0;31m \u001b[0mim\u001b[0m\u001b[0;34m=\u001b[0m \u001b[0mImage\u001b[0m\u001b[0;34m.\u001b[0m\u001b[0mopen\u001b[0m\u001b[0;34m(\u001b[0m\u001b[0mchris\u001b[0m\u001b[0;34m)\u001b[0m\u001b[0;34m\u001b[0m\u001b[0;34m\u001b[0m\u001b[0m\n\u001b[0m\u001b[1;32m      9\u001b[0m \u001b[0mdisplay\u001b[0m\u001b[0;34m(\u001b[0m\u001b[0mim\u001b[0m\u001b[0;34m)\u001b[0m\u001b[0;34m\u001b[0m\u001b[0;34m\u001b[0m\u001b[0m\n",
            "\u001b[0;32m/usr/local/lib/python3.7/dist-packages/PIL/Image.py\u001b[0m in \u001b[0;36mopen\u001b[0;34m(fp, mode)\u001b[0m\n\u001b[1;32m   2841\u001b[0m \u001b[0;34m\u001b[0m\u001b[0m\n\u001b[1;32m   2842\u001b[0m     \u001b[0;32mif\u001b[0m \u001b[0mfilename\u001b[0m\u001b[0;34m:\u001b[0m\u001b[0;34m\u001b[0m\u001b[0;34m\u001b[0m\u001b[0m\n\u001b[0;32m-> 2843\u001b[0;31m         \u001b[0mfp\u001b[0m \u001b[0;34m=\u001b[0m \u001b[0mbuiltins\u001b[0m\u001b[0;34m.\u001b[0m\u001b[0mopen\u001b[0m\u001b[0;34m(\u001b[0m\u001b[0mfilename\u001b[0m\u001b[0;34m,\u001b[0m \u001b[0;34m\"rb\"\u001b[0m\u001b[0;34m)\u001b[0m\u001b[0;34m\u001b[0m\u001b[0;34m\u001b[0m\u001b[0m\n\u001b[0m\u001b[1;32m   2844\u001b[0m         \u001b[0mexclusive_fp\u001b[0m \u001b[0;34m=\u001b[0m \u001b[0;32mTrue\u001b[0m\u001b[0;34m\u001b[0m\u001b[0;34m\u001b[0m\u001b[0m\n\u001b[1;32m   2845\u001b[0m \u001b[0;34m\u001b[0m\u001b[0m\n",
            "\u001b[0;31mFileNotFoundError\u001b[0m: [Errno 2] No such file or directory: 'https://raw.githubusercontent.com/irinavalenzuela/Applied-Data-Science-Python/main/1_Introduction_Data_Science_in_Python/Week1/chris.tiff'"
          ]
        }
      ]
    }
  ]
}