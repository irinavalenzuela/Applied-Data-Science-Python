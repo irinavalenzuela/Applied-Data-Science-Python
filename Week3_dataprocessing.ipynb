{
  "nbformat": 4,
  "nbformat_minor": 0,
  "metadata": {
    "colab": {
      "name": "Week3_dataprocessing.ipynb",
      "provenance": [],
      "authorship_tag": "ABX9TyOr/U7FBdsn3lGYP7sbKLgo",
      "include_colab_link": true
    },
    "kernelspec": {
      "name": "python3",
      "display_name": "Python 3"
    },
    "language_info": {
      "name": "python"
    }
  },
  "cells": [
    {
      "cell_type": "markdown",
      "metadata": {
        "id": "view-in-github",
        "colab_type": "text"
      },
      "source": [
        "<a href=\"https://colab.research.google.com/github/irinavalenzuela/Applied-Data-Science-Python/blob/main/Week3_dataprocessing.ipynb\" target=\"_parent\"><img src=\"https://colab.research.google.com/assets/colab-badge.svg\" alt=\"Open In Colab\"/></a>"
      ]
    },
    {
      "cell_type": "markdown",
      "source": [
        "# Introduction to Data Science in Python\n",
        "\n",
        "# Week 3: More Data Processing with Pandas"
      ],
      "metadata": {
        "id": "XHqwGUs1B2xY"
      }
    },
    {
      "cell_type": "markdown",
      "source": [
        "## Merging DataFrames"
      ],
      "metadata": {
        "id": "UI6x6DINCGbD"
      }
    },
    {
      "cell_type": "code",
      "execution_count": 1,
      "metadata": {
        "colab": {
          "base_uri": "https://localhost:8080/"
        },
        "id": "CN45ieSEB1f2",
        "outputId": "54bde611-95df-43ef-f54b-72eb220e9ef6"
      },
      "outputs": [
        {
          "output_type": "stream",
          "name": "stdout",
          "text": [
            "                 Role\n",
            "Name                 \n",
            "Kelly  Director of HR\n",
            "Sally  Course liasion\n",
            "James          Grader\n",
            "            School\n",
            "Name              \n",
            "James     Business\n",
            "Mike           Law\n",
            "Sally  Engineering\n"
          ]
        }
      ],
      "source": [
        "import pandas as pd\n",
        "\n",
        "# Create 2 dataframes: staff and students\n",
        "staff_df=pd.DataFrame([{'Name':'Kelly','Role':'Director of HR'},\n",
        "                       {'Name':'Sally','Role':'Course liasion'},\n",
        "                       {'Name':'James','Role':'Grader'}])\n",
        "\n",
        "# Index by name\n",
        "staff_df=staff_df.set_index('Name')\n",
        "\n",
        "# Student dataframe\n",
        "student_df=pd.DataFrame([{'Name':'James','School':'Business'},\n",
        "                         {'Name':'Mike','School':'Law'},\n",
        "                         {'Name':'Sally','School':'Engineering'}])\n",
        "#Index by name\n",
        "student_df=student_df.set_index('Name')\n",
        "\n",
        "#Print the data frames\n",
        "print(staff_df.head())\n",
        "print(student_df.head())\n"
      ]
    },
    {
      "cell_type": "code",
      "source": [
        "\n"
      ],
      "metadata": {
        "id": "al_EJJElEooY"
      },
      "execution_count": null,
      "outputs": []
    }
  ]
}