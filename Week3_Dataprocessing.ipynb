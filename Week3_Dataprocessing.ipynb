{
  "nbformat": 4,
  "nbformat_minor": 0,
  "metadata": {
    "colab": {
      "name": "Untitled0.ipynb",
      "provenance": [],
      "authorship_tag": "ABX9TyP/0GwpCliUtmcBrA70bgFb",
      "include_colab_link": true
    },
    "kernelspec": {
      "name": "python3",
      "display_name": "Python 3"
    },
    "language_info": {
      "name": "python"
    }
  },
  "cells": [
    {
      "cell_type": "markdown",
      "metadata": {
        "id": "view-in-github",
        "colab_type": "text"
      },
      "source": [
        "<a href=\"https://colab.research.google.com/github/irinavalenzuela/Applied-Data-Science-Python/blob/main/Week3_Dataprocessing.ipynb\" target=\"_parent\"><img src=\"https://colab.research.google.com/assets/colab-badge.svg\" alt=\"Open In Colab\"/></a>"
      ]
    },
    {
      "cell_type": "markdown",
      "source": [
        "# Introduction to Data Science in Python\n",
        "\n",
        "# Week 3: More Data Processing with Pandas"
      ],
      "metadata": {
        "id": "XHqwGUs1B2xY"
      }
    },
    {
      "cell_type": "markdown",
      "source": [
        "## Merging DataFrames"
      ],
      "metadata": {
        "id": "UI6x6DINCGbD"
      }
    },
    {
      "cell_type": "code",
      "execution_count": null,
      "metadata": {
        "id": "CN45ieSEB1f2"
      },
      "outputs": [],
      "source": [
        ""
      ]
    }
  ]
}